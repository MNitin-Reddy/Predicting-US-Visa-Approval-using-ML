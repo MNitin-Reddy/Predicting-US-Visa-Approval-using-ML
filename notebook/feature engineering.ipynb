{
 "cells": [
  {
   "cell_type": "code",
   "execution_count": 1,
   "metadata": {},
   "outputs": [],
   "source": [
    "import pandas as pd \n",
    "import numpy as np\n",
    "import matplotlib.pyplot as plt\n",
    "import seaborn as sns"
   ]
  },
  {
   "cell_type": "code",
   "execution_count": 2,
   "metadata": {},
   "outputs": [
    {
     "data": {
      "text/html": [
       "<div>\n",
       "<style scoped>\n",
       "    .dataframe tbody tr th:only-of-type {\n",
       "        vertical-align: middle;\n",
       "    }\n",
       "\n",
       "    .dataframe tbody tr th {\n",
       "        vertical-align: top;\n",
       "    }\n",
       "\n",
       "    .dataframe thead th {\n",
       "        text-align: right;\n",
       "    }\n",
       "</style>\n",
       "<table border=\"1\" class=\"dataframe\">\n",
       "  <thead>\n",
       "    <tr style=\"text-align: right;\">\n",
       "      <th></th>\n",
       "      <th>case_id</th>\n",
       "      <th>continent</th>\n",
       "      <th>education_of_employee</th>\n",
       "      <th>has_job_experience</th>\n",
       "      <th>requires_job_training</th>\n",
       "      <th>no_of_employees</th>\n",
       "      <th>yr_of_estab</th>\n",
       "      <th>region_of_employment</th>\n",
       "      <th>prevailing_wage</th>\n",
       "      <th>unit_of_wage</th>\n",
       "      <th>full_time_position</th>\n",
       "      <th>case_status</th>\n",
       "    </tr>\n",
       "  </thead>\n",
       "  <tbody>\n",
       "    <tr>\n",
       "      <th>0</th>\n",
       "      <td>EZYV01</td>\n",
       "      <td>Asia</td>\n",
       "      <td>High School</td>\n",
       "      <td>N</td>\n",
       "      <td>N</td>\n",
       "      <td>14513</td>\n",
       "      <td>2007</td>\n",
       "      <td>West</td>\n",
       "      <td>592.2029</td>\n",
       "      <td>Hour</td>\n",
       "      <td>Y</td>\n",
       "      <td>Denied</td>\n",
       "    </tr>\n",
       "    <tr>\n",
       "      <th>1</th>\n",
       "      <td>EZYV02</td>\n",
       "      <td>Asia</td>\n",
       "      <td>Master's</td>\n",
       "      <td>Y</td>\n",
       "      <td>N</td>\n",
       "      <td>2412</td>\n",
       "      <td>2002</td>\n",
       "      <td>Northeast</td>\n",
       "      <td>83425.6500</td>\n",
       "      <td>Year</td>\n",
       "      <td>Y</td>\n",
       "      <td>Certified</td>\n",
       "    </tr>\n",
       "    <tr>\n",
       "      <th>2</th>\n",
       "      <td>EZYV03</td>\n",
       "      <td>Asia</td>\n",
       "      <td>Bachelor's</td>\n",
       "      <td>N</td>\n",
       "      <td>Y</td>\n",
       "      <td>44444</td>\n",
       "      <td>2008</td>\n",
       "      <td>West</td>\n",
       "      <td>122996.8600</td>\n",
       "      <td>Year</td>\n",
       "      <td>Y</td>\n",
       "      <td>Denied</td>\n",
       "    </tr>\n",
       "    <tr>\n",
       "      <th>3</th>\n",
       "      <td>EZYV04</td>\n",
       "      <td>Asia</td>\n",
       "      <td>Bachelor's</td>\n",
       "      <td>N</td>\n",
       "      <td>N</td>\n",
       "      <td>98</td>\n",
       "      <td>1897</td>\n",
       "      <td>West</td>\n",
       "      <td>83434.0300</td>\n",
       "      <td>Year</td>\n",
       "      <td>Y</td>\n",
       "      <td>Denied</td>\n",
       "    </tr>\n",
       "    <tr>\n",
       "      <th>4</th>\n",
       "      <td>EZYV05</td>\n",
       "      <td>Africa</td>\n",
       "      <td>Master's</td>\n",
       "      <td>Y</td>\n",
       "      <td>N</td>\n",
       "      <td>1082</td>\n",
       "      <td>2005</td>\n",
       "      <td>South</td>\n",
       "      <td>149907.3900</td>\n",
       "      <td>Year</td>\n",
       "      <td>Y</td>\n",
       "      <td>Certified</td>\n",
       "    </tr>\n",
       "  </tbody>\n",
       "</table>\n",
       "</div>"
      ],
      "text/plain": [
       "  case_id continent education_of_employee has_job_experience  \\\n",
       "0  EZYV01      Asia           High School                  N   \n",
       "1  EZYV02      Asia              Master's                  Y   \n",
       "2  EZYV03      Asia            Bachelor's                  N   \n",
       "3  EZYV04      Asia            Bachelor's                  N   \n",
       "4  EZYV05    Africa              Master's                  Y   \n",
       "\n",
       "  requires_job_training  no_of_employees  yr_of_estab region_of_employment  \\\n",
       "0                     N            14513         2007                 West   \n",
       "1                     N             2412         2002            Northeast   \n",
       "2                     Y            44444         2008                 West   \n",
       "3                     N               98         1897                 West   \n",
       "4                     N             1082         2005                South   \n",
       "\n",
       "   prevailing_wage unit_of_wage full_time_position case_status  \n",
       "0         592.2029         Hour                  Y      Denied  \n",
       "1       83425.6500         Year                  Y   Certified  \n",
       "2      122996.8600         Year                  Y      Denied  \n",
       "3       83434.0300         Year                  Y      Denied  \n",
       "4      149907.3900         Year                  Y   Certified  "
      ]
     },
     "execution_count": 2,
     "metadata": {},
     "output_type": "execute_result"
    }
   ],
   "source": [
    "df = pd.read_csv(r\"EasyVisa.csv\")\n",
    "df.head()"
   ]
  },
  {
   "cell_type": "markdown",
   "metadata": {},
   "source": [
    "### Data Cleaning"
   ]
  },
  {
   "cell_type": "markdown",
   "metadata": {},
   "source": [
    "#### Check for null values"
   ]
  },
  {
   "cell_type": "code",
   "execution_count": 3,
   "metadata": {},
   "outputs": [
    {
     "data": {
      "text/plain": [
       "case_id                  0\n",
       "continent                0\n",
       "education_of_employee    0\n",
       "has_job_experience       0\n",
       "requires_job_training    0\n",
       "no_of_employees          0\n",
       "yr_of_estab              0\n",
       "region_of_employment     0\n",
       "prevailing_wage          0\n",
       "unit_of_wage             0\n",
       "full_time_position       0\n",
       "case_status              0\n",
       "dtype: int64"
      ]
     },
     "execution_count": 3,
     "metadata": {},
     "output_type": "execute_result"
    }
   ],
   "source": [
    "df.isnull().sum()"
   ]
  },
  {
   "cell_type": "markdown",
   "metadata": {},
   "source": [
    "* **There are no missing values**"
   ]
  },
  {
   "cell_type": "markdown",
   "metadata": {},
   "source": [
    "#### Duplicated values"
   ]
  },
  {
   "cell_type": "code",
   "execution_count": 5,
   "metadata": {},
   "outputs": [
    {
     "data": {
      "text/plain": [
       "0"
      ]
     },
     "execution_count": 5,
     "metadata": {},
     "output_type": "execute_result"
    }
   ],
   "source": [
    "df.duplicated().sum()"
   ]
  },
  {
   "cell_type": "markdown",
   "metadata": {},
   "source": [
    "* **No duplicate values**"
   ]
  },
  {
   "cell_type": "markdown",
   "metadata": {},
   "source": [
    "Remove case_id from dataset as it cannot be used in model training"
   ]
  },
  {
   "cell_type": "code",
   "execution_count": 7,
   "metadata": {},
   "outputs": [
    {
     "data": {
      "text/plain": [
       "Index(['continent', 'education_of_employee', 'has_job_experience',\n",
       "       'requires_job_training', 'no_of_employees', 'yr_of_estab',\n",
       "       'region_of_employment', 'prevailing_wage', 'unit_of_wage',\n",
       "       'full_time_position', 'case_status'],\n",
       "      dtype='object')"
      ]
     },
     "execution_count": 7,
     "metadata": {},
     "output_type": "execute_result"
    }
   ],
   "source": [
    "df = df.drop(columns='case_id')\n",
    "df.columns"
   ]
  },
  {
   "cell_type": "markdown",
   "metadata": {},
   "source": [
    "## Feature Engineering\n",
    "\n",
    "### Feature Extraction\n"
   ]
  },
  {
   "cell_type": "code",
   "execution_count": 10,
   "metadata": {},
   "outputs": [
    {
     "data": {
      "text/plain": [
       "2024"
      ]
     },
     "execution_count": 10,
     "metadata": {},
     "output_type": "execute_result"
    }
   ],
   "source": [
    "# getting age of company\n",
    "\n",
    "from datetime import date\n",
    "\n",
    "todays_date = date.today()\n",
    "current_year = todays_date.year\n",
    "current_year"
   ]
  },
  {
   "cell_type": "code",
   "execution_count": 11,
   "metadata": {},
   "outputs": [
    {
     "data": {
      "text/plain": [
       "0         17\n",
       "1         22\n",
       "2         16\n",
       "3        127\n",
       "4         19\n",
       "        ... \n",
       "25475     16\n",
       "25476     18\n",
       "25477    114\n",
       "25478    137\n",
       "25479     64\n",
       "Name: age_company, Length: 25480, dtype: int64"
      ]
     },
     "execution_count": 11,
     "metadata": {},
     "output_type": "execute_result"
    }
   ],
   "source": [
    "df['age_company'] = current_year - df['yr_of_estab']\n",
    "df['age_company']"
   ]
  },
  {
   "cell_type": "code",
   "execution_count": 12,
   "metadata": {},
   "outputs": [],
   "source": [
    "# dropping year of established as we got the age_comany column\n",
    "df = df.drop(columns='yr_of_estab')"
   ]
  },
  {
   "cell_type": "code",
   "execution_count": 15,
   "metadata": {},
   "outputs": [],
   "source": [
    "# dropping require_job_training column as it doesn't correlate well with target column\n",
    "df = df.drop(columns='requires_job_training')"
   ]
  },
  {
   "cell_type": "markdown",
   "metadata": {},
   "source": [
    "### Type of features\n",
    "\n",
    "#### Numeric Features"
   ]
  },
  {
   "cell_type": "code",
   "execution_count": 13,
   "metadata": {},
   "outputs": [
    {
     "data": {
      "text/html": [
       "<div>\n",
       "<style scoped>\n",
       "    .dataframe tbody tr th:only-of-type {\n",
       "        vertical-align: middle;\n",
       "    }\n",
       "\n",
       "    .dataframe tbody tr th {\n",
       "        vertical-align: top;\n",
       "    }\n",
       "\n",
       "    .dataframe thead th {\n",
       "        text-align: right;\n",
       "    }\n",
       "</style>\n",
       "<table border=\"1\" class=\"dataframe\">\n",
       "  <thead>\n",
       "    <tr style=\"text-align: right;\">\n",
       "      <th></th>\n",
       "      <th>no_of_employees</th>\n",
       "      <th>prevailing_wage</th>\n",
       "      <th>age_company</th>\n",
       "    </tr>\n",
       "  </thead>\n",
       "  <tbody>\n",
       "    <tr>\n",
       "      <th>0</th>\n",
       "      <td>14513</td>\n",
       "      <td>592.2029</td>\n",
       "      <td>17</td>\n",
       "    </tr>\n",
       "    <tr>\n",
       "      <th>1</th>\n",
       "      <td>2412</td>\n",
       "      <td>83425.6500</td>\n",
       "      <td>22</td>\n",
       "    </tr>\n",
       "    <tr>\n",
       "      <th>2</th>\n",
       "      <td>44444</td>\n",
       "      <td>122996.8600</td>\n",
       "      <td>16</td>\n",
       "    </tr>\n",
       "    <tr>\n",
       "      <th>3</th>\n",
       "      <td>98</td>\n",
       "      <td>83434.0300</td>\n",
       "      <td>127</td>\n",
       "    </tr>\n",
       "    <tr>\n",
       "      <th>4</th>\n",
       "      <td>1082</td>\n",
       "      <td>149907.3900</td>\n",
       "      <td>19</td>\n",
       "    </tr>\n",
       "    <tr>\n",
       "      <th>...</th>\n",
       "      <td>...</td>\n",
       "      <td>...</td>\n",
       "      <td>...</td>\n",
       "    </tr>\n",
       "    <tr>\n",
       "      <th>25475</th>\n",
       "      <td>2601</td>\n",
       "      <td>77092.5700</td>\n",
       "      <td>16</td>\n",
       "    </tr>\n",
       "    <tr>\n",
       "      <th>25476</th>\n",
       "      <td>3274</td>\n",
       "      <td>279174.7900</td>\n",
       "      <td>18</td>\n",
       "    </tr>\n",
       "    <tr>\n",
       "      <th>25477</th>\n",
       "      <td>1121</td>\n",
       "      <td>146298.8500</td>\n",
       "      <td>114</td>\n",
       "    </tr>\n",
       "    <tr>\n",
       "      <th>25478</th>\n",
       "      <td>1918</td>\n",
       "      <td>86154.7700</td>\n",
       "      <td>137</td>\n",
       "    </tr>\n",
       "    <tr>\n",
       "      <th>25479</th>\n",
       "      <td>3195</td>\n",
       "      <td>70876.9100</td>\n",
       "      <td>64</td>\n",
       "    </tr>\n",
       "  </tbody>\n",
       "</table>\n",
       "<p>25480 rows × 3 columns</p>\n",
       "</div>"
      ],
      "text/plain": [
       "       no_of_employees  prevailing_wage  age_company\n",
       "0                14513         592.2029           17\n",
       "1                 2412       83425.6500           22\n",
       "2                44444      122996.8600           16\n",
       "3                   98       83434.0300          127\n",
       "4                 1082      149907.3900           19\n",
       "...                ...              ...          ...\n",
       "25475             2601       77092.5700           16\n",
       "25476             3274      279174.7900           18\n",
       "25477             1121      146298.8500          114\n",
       "25478             1918       86154.7700          137\n",
       "25479             3195       70876.9100           64\n",
       "\n",
       "[25480 rows x 3 columns]"
      ]
     },
     "execution_count": 13,
     "metadata": {},
     "output_type": "execute_result"
    }
   ],
   "source": [
    "num_features = df.select_dtypes(exclude='object')\n",
    "num_features"
   ]
  },
  {
   "cell_type": "markdown",
   "metadata": {},
   "source": [
    "#### Categorical features"
   ]
  },
  {
   "cell_type": "code",
   "execution_count": 16,
   "metadata": {},
   "outputs": [
    {
     "data": {
      "text/html": [
       "<div>\n",
       "<style scoped>\n",
       "    .dataframe tbody tr th:only-of-type {\n",
       "        vertical-align: middle;\n",
       "    }\n",
       "\n",
       "    .dataframe tbody tr th {\n",
       "        vertical-align: top;\n",
       "    }\n",
       "\n",
       "    .dataframe thead th {\n",
       "        text-align: right;\n",
       "    }\n",
       "</style>\n",
       "<table border=\"1\" class=\"dataframe\">\n",
       "  <thead>\n",
       "    <tr style=\"text-align: right;\">\n",
       "      <th></th>\n",
       "      <th>continent</th>\n",
       "      <th>education_of_employee</th>\n",
       "      <th>has_job_experience</th>\n",
       "      <th>region_of_employment</th>\n",
       "      <th>unit_of_wage</th>\n",
       "      <th>full_time_position</th>\n",
       "      <th>case_status</th>\n",
       "    </tr>\n",
       "  </thead>\n",
       "  <tbody>\n",
       "    <tr>\n",
       "      <th>0</th>\n",
       "      <td>Asia</td>\n",
       "      <td>High School</td>\n",
       "      <td>N</td>\n",
       "      <td>West</td>\n",
       "      <td>Hour</td>\n",
       "      <td>Y</td>\n",
       "      <td>Denied</td>\n",
       "    </tr>\n",
       "    <tr>\n",
       "      <th>1</th>\n",
       "      <td>Asia</td>\n",
       "      <td>Master's</td>\n",
       "      <td>Y</td>\n",
       "      <td>Northeast</td>\n",
       "      <td>Year</td>\n",
       "      <td>Y</td>\n",
       "      <td>Certified</td>\n",
       "    </tr>\n",
       "    <tr>\n",
       "      <th>2</th>\n",
       "      <td>Asia</td>\n",
       "      <td>Bachelor's</td>\n",
       "      <td>N</td>\n",
       "      <td>West</td>\n",
       "      <td>Year</td>\n",
       "      <td>Y</td>\n",
       "      <td>Denied</td>\n",
       "    </tr>\n",
       "    <tr>\n",
       "      <th>3</th>\n",
       "      <td>Asia</td>\n",
       "      <td>Bachelor's</td>\n",
       "      <td>N</td>\n",
       "      <td>West</td>\n",
       "      <td>Year</td>\n",
       "      <td>Y</td>\n",
       "      <td>Denied</td>\n",
       "    </tr>\n",
       "    <tr>\n",
       "      <th>4</th>\n",
       "      <td>Africa</td>\n",
       "      <td>Master's</td>\n",
       "      <td>Y</td>\n",
       "      <td>South</td>\n",
       "      <td>Year</td>\n",
       "      <td>Y</td>\n",
       "      <td>Certified</td>\n",
       "    </tr>\n",
       "    <tr>\n",
       "      <th>...</th>\n",
       "      <td>...</td>\n",
       "      <td>...</td>\n",
       "      <td>...</td>\n",
       "      <td>...</td>\n",
       "      <td>...</td>\n",
       "      <td>...</td>\n",
       "      <td>...</td>\n",
       "    </tr>\n",
       "    <tr>\n",
       "      <th>25475</th>\n",
       "      <td>Asia</td>\n",
       "      <td>Bachelor's</td>\n",
       "      <td>Y</td>\n",
       "      <td>South</td>\n",
       "      <td>Year</td>\n",
       "      <td>Y</td>\n",
       "      <td>Certified</td>\n",
       "    </tr>\n",
       "    <tr>\n",
       "      <th>25476</th>\n",
       "      <td>Asia</td>\n",
       "      <td>High School</td>\n",
       "      <td>Y</td>\n",
       "      <td>Northeast</td>\n",
       "      <td>Year</td>\n",
       "      <td>Y</td>\n",
       "      <td>Certified</td>\n",
       "    </tr>\n",
       "    <tr>\n",
       "      <th>25477</th>\n",
       "      <td>Asia</td>\n",
       "      <td>Master's</td>\n",
       "      <td>Y</td>\n",
       "      <td>South</td>\n",
       "      <td>Year</td>\n",
       "      <td>N</td>\n",
       "      <td>Certified</td>\n",
       "    </tr>\n",
       "    <tr>\n",
       "      <th>25478</th>\n",
       "      <td>Asia</td>\n",
       "      <td>Master's</td>\n",
       "      <td>Y</td>\n",
       "      <td>West</td>\n",
       "      <td>Year</td>\n",
       "      <td>Y</td>\n",
       "      <td>Certified</td>\n",
       "    </tr>\n",
       "    <tr>\n",
       "      <th>25479</th>\n",
       "      <td>Asia</td>\n",
       "      <td>Bachelor's</td>\n",
       "      <td>Y</td>\n",
       "      <td>Midwest</td>\n",
       "      <td>Year</td>\n",
       "      <td>Y</td>\n",
       "      <td>Certified</td>\n",
       "    </tr>\n",
       "  </tbody>\n",
       "</table>\n",
       "<p>25480 rows × 7 columns</p>\n",
       "</div>"
      ],
      "text/plain": [
       "      continent education_of_employee has_job_experience region_of_employment  \\\n",
       "0          Asia           High School                  N                 West   \n",
       "1          Asia              Master's                  Y            Northeast   \n",
       "2          Asia            Bachelor's                  N                 West   \n",
       "3          Asia            Bachelor's                  N                 West   \n",
       "4        Africa              Master's                  Y                South   \n",
       "...         ...                   ...                ...                  ...   \n",
       "25475      Asia            Bachelor's                  Y                South   \n",
       "25476      Asia           High School                  Y            Northeast   \n",
       "25477      Asia              Master's                  Y                South   \n",
       "25478      Asia              Master's                  Y                 West   \n",
       "25479      Asia            Bachelor's                  Y              Midwest   \n",
       "\n",
       "      unit_of_wage full_time_position case_status  \n",
       "0             Hour                  Y      Denied  \n",
       "1             Year                  Y   Certified  \n",
       "2             Year                  Y      Denied  \n",
       "3             Year                  Y      Denied  \n",
       "4             Year                  Y   Certified  \n",
       "...            ...                ...         ...  \n",
       "25475         Year                  Y   Certified  \n",
       "25476         Year                  Y   Certified  \n",
       "25477         Year                  N   Certified  \n",
       "25478         Year                  Y   Certified  \n",
       "25479         Year                  Y   Certified  \n",
       "\n",
       "[25480 rows x 7 columns]"
      ]
     },
     "execution_count": 16,
     "metadata": {},
     "output_type": "execute_result"
    }
   ],
   "source": [
    "cat_features = df.select_dtypes(include='object')\n",
    "cat_features"
   ]
  },
  {
   "cell_type": "markdown",
   "metadata": {},
   "source": [
    "### Split into independent and dependent features"
   ]
  },
  {
   "cell_type": "code",
   "execution_count": 17,
   "metadata": {},
   "outputs": [],
   "source": [
    "X = df.drop(columns = 'case_status')\n",
    "y = df['case_status']"
   ]
  },
  {
   "cell_type": "code",
   "execution_count": 18,
   "metadata": {},
   "outputs": [
    {
     "data": {
      "text/html": [
       "<div>\n",
       "<style scoped>\n",
       "    .dataframe tbody tr th:only-of-type {\n",
       "        vertical-align: middle;\n",
       "    }\n",
       "\n",
       "    .dataframe tbody tr th {\n",
       "        vertical-align: top;\n",
       "    }\n",
       "\n",
       "    .dataframe thead th {\n",
       "        text-align: right;\n",
       "    }\n",
       "</style>\n",
       "<table border=\"1\" class=\"dataframe\">\n",
       "  <thead>\n",
       "    <tr style=\"text-align: right;\">\n",
       "      <th></th>\n",
       "      <th>continent</th>\n",
       "      <th>education_of_employee</th>\n",
       "      <th>has_job_experience</th>\n",
       "      <th>no_of_employees</th>\n",
       "      <th>region_of_employment</th>\n",
       "      <th>prevailing_wage</th>\n",
       "      <th>unit_of_wage</th>\n",
       "      <th>full_time_position</th>\n",
       "      <th>age_company</th>\n",
       "    </tr>\n",
       "  </thead>\n",
       "  <tbody>\n",
       "    <tr>\n",
       "      <th>0</th>\n",
       "      <td>Asia</td>\n",
       "      <td>High School</td>\n",
       "      <td>N</td>\n",
       "      <td>14513</td>\n",
       "      <td>West</td>\n",
       "      <td>592.2029</td>\n",
       "      <td>Hour</td>\n",
       "      <td>Y</td>\n",
       "      <td>17</td>\n",
       "    </tr>\n",
       "    <tr>\n",
       "      <th>1</th>\n",
       "      <td>Asia</td>\n",
       "      <td>Master's</td>\n",
       "      <td>Y</td>\n",
       "      <td>2412</td>\n",
       "      <td>Northeast</td>\n",
       "      <td>83425.6500</td>\n",
       "      <td>Year</td>\n",
       "      <td>Y</td>\n",
       "      <td>22</td>\n",
       "    </tr>\n",
       "    <tr>\n",
       "      <th>2</th>\n",
       "      <td>Asia</td>\n",
       "      <td>Bachelor's</td>\n",
       "      <td>N</td>\n",
       "      <td>44444</td>\n",
       "      <td>West</td>\n",
       "      <td>122996.8600</td>\n",
       "      <td>Year</td>\n",
       "      <td>Y</td>\n",
       "      <td>16</td>\n",
       "    </tr>\n",
       "    <tr>\n",
       "      <th>3</th>\n",
       "      <td>Asia</td>\n",
       "      <td>Bachelor's</td>\n",
       "      <td>N</td>\n",
       "      <td>98</td>\n",
       "      <td>West</td>\n",
       "      <td>83434.0300</td>\n",
       "      <td>Year</td>\n",
       "      <td>Y</td>\n",
       "      <td>127</td>\n",
       "    </tr>\n",
       "    <tr>\n",
       "      <th>4</th>\n",
       "      <td>Africa</td>\n",
       "      <td>Master's</td>\n",
       "      <td>Y</td>\n",
       "      <td>1082</td>\n",
       "      <td>South</td>\n",
       "      <td>149907.3900</td>\n",
       "      <td>Year</td>\n",
       "      <td>Y</td>\n",
       "      <td>19</td>\n",
       "    </tr>\n",
       "  </tbody>\n",
       "</table>\n",
       "</div>"
      ],
      "text/plain": [
       "  continent education_of_employee has_job_experience  no_of_employees  \\\n",
       "0      Asia           High School                  N            14513   \n",
       "1      Asia              Master's                  Y             2412   \n",
       "2      Asia            Bachelor's                  N            44444   \n",
       "3      Asia            Bachelor's                  N               98   \n",
       "4    Africa              Master's                  Y             1082   \n",
       "\n",
       "  region_of_employment  prevailing_wage unit_of_wage full_time_position  \\\n",
       "0                 West         592.2029         Hour                  Y   \n",
       "1            Northeast       83425.6500         Year                  Y   \n",
       "2                 West      122996.8600         Year                  Y   \n",
       "3                 West       83434.0300         Year                  Y   \n",
       "4                South      149907.3900         Year                  Y   \n",
       "\n",
       "   age_company  \n",
       "0           17  \n",
       "1           22  \n",
       "2           16  \n",
       "3          127  \n",
       "4           19  "
      ]
     },
     "execution_count": 18,
     "metadata": {},
     "output_type": "execute_result"
    }
   ],
   "source": [
    "X.head()"
   ]
  },
  {
   "cell_type": "code",
   "execution_count": 19,
   "metadata": {},
   "outputs": [
    {
     "data": {
      "text/plain": [
       "0       Denied\n",
       "1    Certified\n",
       "2       Denied\n",
       "3       Denied\n",
       "4    Certified\n",
       "Name: case_status, dtype: object"
      ]
     },
     "execution_count": 19,
     "metadata": {},
     "output_type": "execute_result"
    }
   ],
   "source": [
    "y.head()"
   ]
  },
  {
   "cell_type": "markdown",
   "metadata": {},
   "source": [
    "**Manual Encoding target column**"
   ]
  },
  {
   "cell_type": "code",
   "execution_count": 21,
   "metadata": {},
   "outputs": [],
   "source": [
    "# y.apply(lambda x : 1 if x=='Certified' else 0)\n",
    "# Encode if denied as 1 else 0\n",
    "y = np.where(y=='Denied',1,0)"
   ]
  },
  {
   "cell_type": "code",
   "execution_count": 22,
   "metadata": {},
   "outputs": [
    {
     "data": {
      "text/plain": [
       "array([1, 0, 1, ..., 0, 0, 0])"
      ]
     },
     "execution_count": 22,
     "metadata": {},
     "output_type": "execute_result"
    }
   ],
   "source": [
    "y"
   ]
  },
  {
   "cell_type": "markdown",
   "metadata": {},
   "source": [
    "### Feature Transformation"
   ]
  },
  {
   "cell_type": "code",
   "execution_count": 23,
   "metadata": {},
   "outputs": [
    {
     "data": {
      "image/png": "[encoded data removed]",
      "text/plain": [
       "<Figure size 1000x500 with 3 Axes>"
      ]
     },
     "metadata": {},
     "output_type": "display_data"
    }
   ],
   "source": [
    "# Distribution of data before scaling\n",
    "plt.figure(figsize=(10,5))\n",
    "for i,col in enumerate(num_features.columns):\n",
    "    plt.subplot(2,2,i+1)\n",
    "    sns.histplot(x=X[col], color='indianred')\n",
    "    plt.xlabel(col)\n",
    "    plt.tight_layout()"
   ]
  },
  {
   "cell_type": "markdown",
   "metadata": {},
   "source": [
    "* No of employees and Copmany age column is skewed\n",
    "* Apply a power transform featurewise to make data more Gaussian-like.\n",
    "\n",
    "Power transforms are a family of parametric, monotonic transformations that are applied to make data more Gaussian-like. This is useful for modeling issues related to heteroscedasticity (non-constant variance), or other situations where normality is desired.\n",
    "\n",
    "Currently, PowerTransformer supports the Box-Cox transform and the Yeo-Johnson transform.\n",
    "\n",
    "##### Checking Skewness"
   ]
  },
  {
   "cell_type": "code",
   "execution_count": 26,
   "metadata": {},
   "outputs": [
    {
     "data": {
      "text/html": [
       "<div>\n",
       "<style scoped>\n",
       "    .dataframe tbody tr th:only-of-type {\n",
       "        vertical-align: middle;\n",
       "    }\n",
       "\n",
       "    .dataframe tbody tr th {\n",
       "        vertical-align: top;\n",
       "    }\n",
       "\n",
       "    .dataframe thead th {\n",
       "        text-align: right;\n",
       "    }\n",
       "</style>\n",
       "<table border=\"1\" class=\"dataframe\">\n",
       "  <thead>\n",
       "    <tr style=\"text-align: right;\">\n",
       "      <th></th>\n",
       "      <th>no_of_employees</th>\n",
       "      <th>prevailing_wage</th>\n",
       "      <th>age_company</th>\n",
       "    </tr>\n",
       "  </thead>\n",
       "  <tbody>\n",
       "    <tr>\n",
       "      <th>0</th>\n",
       "      <td>14513</td>\n",
       "      <td>592.2029</td>\n",
       "      <td>17</td>\n",
       "    </tr>\n",
       "    <tr>\n",
       "      <th>1</th>\n",
       "      <td>2412</td>\n",
       "      <td>83425.6500</td>\n",
       "      <td>22</td>\n",
       "    </tr>\n",
       "    <tr>\n",
       "      <th>2</th>\n",
       "      <td>44444</td>\n",
       "      <td>122996.8600</td>\n",
       "      <td>16</td>\n",
       "    </tr>\n",
       "    <tr>\n",
       "      <th>3</th>\n",
       "      <td>98</td>\n",
       "      <td>83434.0300</td>\n",
       "      <td>127</td>\n",
       "    </tr>\n",
       "    <tr>\n",
       "      <th>4</th>\n",
       "      <td>1082</td>\n",
       "      <td>149907.3900</td>\n",
       "      <td>19</td>\n",
       "    </tr>\n",
       "    <tr>\n",
       "      <th>...</th>\n",
       "      <td>...</td>\n",
       "      <td>...</td>\n",
       "      <td>...</td>\n",
       "    </tr>\n",
       "    <tr>\n",
       "      <th>25475</th>\n",
       "      <td>2601</td>\n",
       "      <td>77092.5700</td>\n",
       "      <td>16</td>\n",
       "    </tr>\n",
       "    <tr>\n",
       "      <th>25476</th>\n",
       "      <td>3274</td>\n",
       "      <td>279174.7900</td>\n",
       "      <td>18</td>\n",
       "    </tr>\n",
       "    <tr>\n",
       "      <th>25477</th>\n",
       "      <td>1121</td>\n",
       "      <td>146298.8500</td>\n",
       "      <td>114</td>\n",
       "    </tr>\n",
       "    <tr>\n",
       "      <th>25478</th>\n",
       "      <td>1918</td>\n",
       "      <td>86154.7700</td>\n",
       "      <td>137</td>\n",
       "    </tr>\n",
       "    <tr>\n",
       "      <th>25479</th>\n",
       "      <td>3195</td>\n",
       "      <td>70876.9100</td>\n",
       "      <td>64</td>\n",
       "    </tr>\n",
       "  </tbody>\n",
       "</table>\n",
       "<p>25480 rows × 3 columns</p>\n",
       "</div>"
      ],
      "text/plain": [
       "       no_of_employees  prevailing_wage  age_company\n",
       "0                14513         592.2029           17\n",
       "1                 2412       83425.6500           22\n",
       "2                44444      122996.8600           16\n",
       "3                   98       83434.0300          127\n",
       "4                 1082      149907.3900           19\n",
       "...                ...              ...          ...\n",
       "25475             2601       77092.5700           16\n",
       "25476             3274      279174.7900           18\n",
       "25477             1121      146298.8500          114\n",
       "25478             1918       86154.7700          137\n",
       "25479             3195       70876.9100           64\n",
       "\n",
       "[25480 rows x 3 columns]"
      ]
     },
     "execution_count": 26,
     "metadata": {},
     "output_type": "execute_result"
    }
   ],
   "source": []
  },
  {
   "cell_type": "code",
   "execution_count": 27,
   "metadata": {},
   "outputs": [
    {
     "data": {
      "text/plain": [
       "no_of_employees    12.265260\n",
       "prevailing_wage     0.755776\n",
       "age_company         2.037301\n",
       "dtype: float64"
      ]
     },
     "execution_count": 27,
     "metadata": {},
     "output_type": "execute_result"
    }
   ],
   "source": [
    "X[num_features.columns].skew(axis=0)"
   ]
  },
  {
   "cell_type": "markdown",
   "metadata": {},
   "source": [
    "* age_company, no_of_employees are positively skewed\n",
    "* Handle the outliers and check for skewness again"
   ]
  },
  {
   "cell_type": "markdown",
   "metadata": {},
   "source": [
    "#### Apply Power Transformer to Check if it can reduces the outliers"
   ]
  },
  {
   "cell_type": "code",
   "execution_count": 30,
   "metadata": {},
   "outputs": [],
   "source": [
    "from sklearn.preprocessing import PowerTransformer\n",
    "pt = PowerTransformer(method='yeo-johnson')\n",
    "transform_features = ['age_company', 'no_of_employees']\n",
    "X_copy = pt.fit_transform(X[transform_features])"
   ]
  },
  {
   "cell_type": "code",
   "execution_count": 31,
   "metadata": {},
   "outputs": [
    {
     "data": {
      "image/png": "[encoded data removed]",
      "text/plain": [
       "<Figure size 1200x500 with 2 Axes>"
      ]
     },
     "metadata": {},
     "output_type": "display_data"
    }
   ],
   "source": [
    "X_copy = pd.DataFrame(X_copy, columns= transform_features)\n",
    "plt.figure(figsize=(12, 5))\n",
    "for i, col in enumerate(transform_features):\n",
    "    plt.subplot(1, 2, i+1)\n",
    "    sns.histplot(x=X_copy[col], color='indianred')\n",
    "    plt.xlabel(col)\n",
    "    plt.tight_layout()"
   ]
  },
  {
   "cell_type": "code",
   "execution_count": 32,
   "metadata": {},
   "outputs": [
    {
     "data": {
      "text/plain": [
       "age_company        0.103264\n",
       "no_of_employees    0.399339\n",
       "dtype: float64"
      ]
     },
     "execution_count": 32,
     "metadata": {},
     "output_type": "execute_result"
    }
   ],
   "source": [
    "X_copy.skew(axis=0, skipna=True)"
   ]
  },
  {
   "cell_type": "markdown",
   "metadata": {},
   "source": [
    "**Significant decrease in skewness**"
   ]
  },
  {
   "cell_type": "markdown",
   "metadata": {},
   "source": [
    "### Feature Encoding and Scaling"
   ]
  },
  {
   "cell_type": "markdown",
   "metadata": {},
   "source": [
    "**One Hot Encoding for Columns which had lesser unique values and not ordinal**\n",
    "\n",
    "* One hot encoding is a process by which categorical variables are converted into a form that could be provided to ML algorithms to do a better job in prediction.\n",
    "\n",
    "**Ordinal Encoding for Columns which has many unique categories**\n",
    "\n",
    "* Ordinal encoding is used here as label encoder is supported for column transformer.\n",
    "* Ordinal encoding is used for Ordinal Variable. Variable comprises a finite set of discrete values with a ranked ordering between values.\n",
    "\n",
    "**Standard Scaler**\n",
    "\n",
    "* Standardize features by removing the mean and scaling to unit variance.\n",
    "\n",
    "**Power Transformer**\n",
    "\n",
    "* Power transforms are a technique for transforming numerical input or output variables to have a Gaussian or more-Gaussian-like probability distribution."
   ]
  },
  {
   "cell_type": "code",
   "execution_count": 33,
   "metadata": {},
   "outputs": [
    {
     "name": "stdout",
     "output_type": "stream",
     "text": [
      "continent : 6\n",
      "education_of_employee : 4\n",
      "has_job_experience : 2\n",
      "region_of_employment : 5\n",
      "unit_of_wage : 4\n",
      "full_time_position : 2\n",
      "case_status : 2\n"
     ]
    }
   ],
   "source": [
    "for feature in cat_features:\n",
    "    print(feature,':', df[feature].nunique())"
   ]
  },
  {
   "cell_type": "code",
   "execution_count": 35,
   "metadata": {},
   "outputs": [
    {
     "data": {
      "text/plain": [
       "['no_of_employees', 'prevailing_wage', 'age_company']"
      ]
     },
     "execution_count": 35,
     "metadata": {},
     "output_type": "execute_result"
    }
   ],
   "source": [
    "num_columns = list(num_features.columns)\n",
    "num_columns"
   ]
  },
  {
   "cell_type": "markdown",
   "metadata": {},
   "source": [
    "#### Preprocessing using column transformer"
   ]
  },
  {
   "cell_type": "code",
   "execution_count": 36,
   "metadata": {},
   "outputs": [],
   "source": [
    "from sklearn.preprocessing import OneHotEncoder, StandardScaler, OrdinalEncoder, PowerTransformer\n",
    "from sklearn.compose import ColumnTransformer\n",
    "from sklearn.pipeline import Pipeline"
   ]
  },
  {
   "cell_type": "code",
   "execution_count": 39,
   "metadata": {},
   "outputs": [],
   "source": [
    "or_columns = ['has_job_experience','full_time_position','education_of_employee']\n",
    "oh_columns = ['continent','unit_of_wage','region_of_employment']\n",
    "transform_columns= ['no_of_employees','age_company']\n",
    "\n",
    "numeric_transformer = StandardScaler()\n",
    "oh_transformer = OneHotEncoder()\n",
    "ordinal_transformer = OrdinalEncoder()\n",
    "\n",
    "transform_pipe = Pipeline(steps=[\n",
    "    ('transformer',PowerTransformer(method='yeo-johnson'))\n",
    "])\n",
    "\n",
    "preprocessor = ColumnTransformer(\n",
    "    [\n",
    "        ('OneHotEncoder', oh_transformer, oh_columns),\n",
    "        ('OrdinalEncoder', ordinal_transformer, or_columns),\n",
    "        ('Transformer', transform_pipe, transform_columns),\n",
    "        ('StandardScaler', numeric_transformer, num_columns)\n",
    "    ]\n",
    ")"
   ]
  },
  {
   "cell_type": "code",
   "execution_count": 40,
   "metadata": {},
   "outputs": [
    {
     "data": {
      "text/plain": [
       "array([[ 0.        ,  1.        ,  0.        , ...,  0.38666657,\n",
       "        -1.39853722, -0.65122993],\n",
       "       [ 0.        ,  1.        ,  0.        , ..., -0.14228155,\n",
       "         0.1698353 , -0.53321103],\n",
       "       [ 0.        ,  1.        ,  0.        , ...,  1.69498375,\n",
       "         0.91907852, -0.6748337 ],\n",
       "       ...,\n",
       "       [ 0.        ,  1.        ,  0.        , ..., -0.19871259,\n",
       "         1.36027953,  1.63833662],\n",
       "       [ 0.        ,  1.        ,  0.        , ..., -0.16387483,\n",
       "         0.22150859,  2.18122353],\n",
       "       [ 0.        ,  1.        ,  0.        , ..., -0.10805575,\n",
       "        -0.06776315,  0.45814768]])"
      ]
     },
     "execution_count": 40,
     "metadata": {},
     "output_type": "execute_result"
    }
   ],
   "source": [
    "X = preprocessor.fit_transform(X)\n",
    "X"
   ]
  },
  {
   "cell_type": "markdown",
   "metadata": {},
   "source": [
    "### Classification"
   ]
  },
  {
   "cell_type": "code",
   "execution_count": 41,
   "metadata": {},
   "outputs": [],
   "source": [
    "# Resampling the minority class using SMOTE strategy\n",
    "\n",
    "from imblearn.combine import SMOTEENN\n",
    "\n",
    "smt = SMOTEENN(random_state=42, sampling_strategy='minority')\n",
    "\n",
    "X_res, y_res = smt.fit_resample(X,y)"
   ]
  },
  {
   "cell_type": "markdown",
   "metadata": {},
   "source": [
    "### Train test Split"
   ]
  },
  {
   "cell_type": "code",
   "execution_count": 60,
   "metadata": {},
   "outputs": [
    {
     "data": {
      "text/plain": [
       "((13532, 23), (3383, 23))"
      ]
     },
     "execution_count": 60,
     "metadata": {},
     "output_type": "execute_result"
    }
   ],
   "source": [
    "from sklearn.model_selection import train_test_split\n",
    "\n",
    "X_train, X_test, y_train, y_test = train_test_split(X_res,y_res, test_size=0.2, random_state=42)\n",
    "X_train.shape, X_test.shape"
   ]
  },
  {
   "cell_type": "markdown",
   "metadata": {},
   "source": [
    "## Model Training"
   ]
  },
  {
   "cell_type": "code",
   "execution_count": 44,
   "metadata": {},
   "outputs": [],
   "source": [
    "from sklearn.ensemble import RandomForestClassifier, AdaBoostClassifier, GradientBoostingClassifier\n",
    "from sklearn.linear_model import LogisticRegression\n",
    "from sklearn.neighbors import KNeighborsClassifier\n",
    "from sklearn.tree import DecisionTreeClassifier\n",
    "from sklearn.svm import SVC\n",
    "from sklearn.metrics import accuracy_score, classification_report,ConfusionMatrixDisplay, precision_score, recall_score, f1_score, roc_auc_score,roc_curve \n",
    "from xgboost import XGBClassifier\n",
    "from catboost import CatBoostClassifier"
   ]
  },
  {
   "cell_type": "code",
   "execution_count": 45,
   "metadata": {},
   "outputs": [],
   "source": [
    "def evaluate_clf(true, predicted):\n",
    "    acc = accuracy_score(true, predicted) # Calculate Accuracy\n",
    "    f1 = f1_score(true, predicted) # Calculate F1-score\n",
    "    precision = precision_score(true, predicted) # Calculate Precision\n",
    "    recall = recall_score(true, predicted)  # Calculate Recall\n",
    "    roc_auc = roc_auc_score(true, predicted) #Calculate Roc\n",
    "    return acc, f1 , precision, recall, roc_auc"
   ]
  },
  {
   "cell_type": "code",
   "execution_count": 46,
   "metadata": {},
   "outputs": [],
   "source": [
    "models = {\n",
    "    \"Random Forest\": RandomForestClassifier(),\n",
    "    \"Decision Tree\": DecisionTreeClassifier(),\n",
    "    \"Gradient Boosting\": GradientBoostingClassifier(),\n",
    "    \"Logistic Regression\": LogisticRegression(),\n",
    "     \"K-Neighbors Classifier\": KNeighborsClassifier(),\n",
    "    \"XGBClassifier\": XGBClassifier(), \n",
    "     \"CatBoosting Classifier\": CatBoostClassifier(verbose=False),\n",
    "     \"Support Vector Classifier\": SVC(),\n",
    "    \"AdaBoost Classifier\": AdaBoostClassifier()\n",
    "}"
   ]
  },
  {
   "cell_type": "code",
   "execution_count": 48,
   "metadata": {},
   "outputs": [],
   "source": [
    "# Create a function which can evaluate models and return a report \n",
    "def evaluate_models(X, y, models):\n",
    "    '''\n",
    "    This function takes in X and y and models dictionary as input\n",
    "    It splits the data into Train Test split\n",
    "    Iterates through the given model dictionary and evaluates the metrics\n",
    "    Returns: Dataframe which contains report of all models metrics with cost\n",
    "    '''\n",
    "    # separate dataset into train and test\n",
    "    X_train, X_test, y_train, y_test = train_test_split(X,y,test_size=0.2,random_state=42)\n",
    "    \n",
    "    models_list = []\n",
    "    accuracy_list = []\n",
    "    auc= []\n",
    "    \n",
    "    for i in range(len(list(models))):\n",
    "        model = list(models.values())[i]\n",
    "        model.fit(X_train, y_train) # Train model\n",
    "\n",
    "        # Make predictions\n",
    "        y_train_pred = model.predict(X_train)\n",
    "        y_test_pred = model.predict(X_test)\n",
    "\n",
    "        # Training set performance\n",
    "        model_train_accuracy, model_train_f1,model_train_precision,model_train_recall,model_train_rocauc_score = evaluate_clf(y_train ,y_train_pred)\n",
    "\n",
    "\n",
    "        # Test set performance\n",
    "        model_test_accuracy,model_test_f1,model_test_precision, model_test_recall,model_test_rocauc_score = evaluate_clf(y_test, y_test_pred)\n",
    "\n",
    "        print(list(models.keys())[i])\n",
    "        models_list.append(list(models.keys())[i])\n",
    "\n",
    "        print('Model performance for Training set')\n",
    "        print(\"- Accuracy: {:.4f}\".format(model_train_accuracy))\n",
    "        print('- F1 score: {:.4f}'.format(model_train_f1)) \n",
    "        print('- Precision: {:.4f}'.format(model_train_precision))\n",
    "        print('- Recall: {:.4f}'.format(model_train_recall))\n",
    "        print('- Roc Auc Score: {:.4f}'.format(model_train_rocauc_score))\n",
    "\n",
    "        print('----------------------------------')\n",
    "\n",
    "        print('Model performance for Test set')\n",
    "        print('- Accuracy: {:.4f}'.format(model_test_accuracy))\n",
    "        accuracy_list.append(model_test_accuracy)\n",
    "        print('- F1 score: {:.4f}'.format(model_test_f1))\n",
    "        print('- Precision: {:.4f}'.format(model_test_precision))\n",
    "        print('- Recall: {:.4f}'.format(model_test_recall))\n",
    "        print('- Roc Auc Score: {:.4f}'.format(model_test_rocauc_score))\n",
    "        auc.append(model_test_rocauc_score)\n",
    "        print('='*35)\n",
    "        print('\\n')\n",
    "        \n",
    "    report=pd.DataFrame(list(zip(models_list, accuracy_list)), columns=['Model Name', 'Accuracy']).sort_values(by=['Accuracy'], ascending=False)\n",
    "        \n",
    "    return report"
   ]
  },
  {
   "cell_type": "code",
   "execution_count": 49,
   "metadata": {},
   "outputs": [
    {
     "name": "stdout",
     "output_type": "stream",
     "text": [
      "Random Forest\n",
      "Model performance for Training set\n",
      "- Accuracy: 1.0000\n",
      "- F1 score: 1.0000\n",
      "- Precision: 1.0000\n",
      "- Recall: 1.0000\n",
      "- Roc Auc Score: 1.0000\n",
      "----------------------------------\n",
      "Model performance for Test set\n",
      "- Accuracy: 0.9486\n",
      "- F1 score: 0.9535\n",
      "- Precision: 0.9479\n",
      "- Recall: 0.9591\n",
      "- Roc Auc Score: 0.9474\n",
      "===================================\n",
      "\n",
      "\n",
      "Decision Tree\n",
      "Model performance for Training set\n",
      "- Accuracy: 1.0000\n",
      "- F1 score: 1.0000\n",
      "- Precision: 1.0000\n",
      "- Recall: 1.0000\n",
      "- Roc Auc Score: 1.0000\n",
      "----------------------------------\n",
      "Model performance for Test set\n",
      "- Accuracy: 0.9134\n",
      "- F1 score: 0.9213\n",
      "- Precision: 0.9200\n",
      "- Recall: 0.9225\n",
      "- Roc Auc Score: 0.9124\n",
      "===================================\n",
      "\n",
      "\n",
      "Gradient Boosting\n",
      "Model performance for Training set\n",
      "- Accuracy: 0.8840\n",
      "- F1 score: 0.8919\n",
      "- Precision: 0.8945\n",
      "- Recall: 0.8894\n",
      "- Roc Auc Score: 0.8835\n",
      "----------------------------------\n",
      "Model performance for Test set\n",
      "- Accuracy: 0.8785\n",
      "- F1 score: 0.8885\n",
      "- Precision: 0.8960\n",
      "- Recall: 0.8811\n",
      "- Roc Auc Score: 0.8782\n",
      "===================================\n",
      "\n",
      "\n",
      "Logistic Regression\n",
      "Model performance for Training set\n",
      "- Accuracy: 0.7370\n",
      "- F1 score: 0.7514\n",
      "- Precision: 0.7649\n",
      "- Recall: 0.7384\n",
      "- Roc Auc Score: 0.7369\n",
      "----------------------------------\n",
      "Model performance for Test set\n",
      "- Accuracy: 0.7304\n",
      "- F1 score: 0.7516\n",
      "- Precision: 0.7607\n",
      "- Recall: 0.7427\n",
      "- Roc Auc Score: 0.7291\n",
      "===================================\n",
      "\n",
      "\n"
     ]
    },
    {
     "name": "stderr",
     "output_type": "stream",
     "text": [
      "c:\\Users\\nitin\\anaconda3\\envs\\visa\\lib\\site-packages\\sklearn\\linear_model\\_logistic.py:460: ConvergenceWarning: lbfgs failed to converge (status=1):\n",
      "STOP: TOTAL NO. of ITERATIONS REACHED LIMIT.\n",
      "\n",
      "Increase the number of iterations (max_iter) or scale the data as shown in:\n",
      "    https://scikit-learn.org/stable/modules/preprocessing.html\n",
      "Please also refer to the documentation for alternative solver options:\n",
      "    https://scikit-learn.org/stable/modules/linear_model.html#logistic-regression\n",
      "  n_iter_i = _check_optimize_result(\n"
     ]
    },
    {
     "name": "stdout",
     "output_type": "stream",
     "text": [
      "K-Neighbors Classifier\n",
      "Model performance for Training set\n",
      "- Accuracy: 0.9670\n",
      "- F1 score: 0.9696\n",
      "- Precision: 0.9604\n",
      "- Recall: 0.9790\n",
      "- Roc Auc Score: 0.9660\n",
      "----------------------------------\n",
      "Model performance for Test set\n",
      "- Accuracy: 0.9362\n",
      "- F1 score: 0.9427\n",
      "- Precision: 0.9289\n",
      "- Recall: 0.9569\n",
      "- Roc Auc Score: 0.9339\n",
      "===================================\n",
      "\n",
      "\n",
      "XGBClassifier\n",
      "Model performance for Training set\n",
      "- Accuracy: 0.9786\n",
      "- F1 score: 0.9802\n",
      "- Precision: 0.9771\n",
      "- Recall: 0.9834\n",
      "- Roc Auc Score: 0.9782\n",
      "----------------------------------\n",
      "Model performance for Test set\n",
      "- Accuracy: 0.9240\n",
      "- F1 score: 0.9306\n",
      "- Precision: 0.9334\n",
      "- Recall: 0.9279\n",
      "- Roc Auc Score: 0.9236\n",
      "===================================\n",
      "\n",
      "\n",
      "CatBoosting Classifier\n",
      "Model performance for Training set\n",
      "- Accuracy: 0.9539\n",
      "- F1 score: 0.9570\n",
      "- Precision: 0.9617\n",
      "- Recall: 0.9522\n",
      "- Roc Auc Score: 0.9540\n",
      "----------------------------------\n",
      "Model performance for Test set\n",
      "- Accuracy: 0.9273\n",
      "- F1 score: 0.9334\n",
      "- Precision: 0.9390\n",
      "- Recall: 0.9279\n",
      "- Roc Auc Score: 0.9272\n",
      "===================================\n",
      "\n",
      "\n",
      "Support Vector Classifier\n",
      "Model performance for Training set\n",
      "- Accuracy: 0.8693\n",
      "- F1 score: 0.8758\n",
      "- Precision: 0.8964\n",
      "- Recall: 0.8561\n",
      "- Roc Auc Score: 0.8704\n",
      "----------------------------------\n",
      "Model performance for Test set\n",
      "- Accuracy: 0.8634\n",
      "- F1 score: 0.8724\n",
      "- Precision: 0.8957\n",
      "- Recall: 0.8504\n",
      "- Roc Auc Score: 0.8649\n",
      "===================================\n",
      "\n",
      "\n",
      "AdaBoost Classifier\n",
      "Model performance for Training set\n",
      "- Accuracy: 0.8600\n",
      "- F1 score: 0.8697\n",
      "- Precision: 0.8713\n",
      "- Recall: 0.8681\n",
      "- Roc Auc Score: 0.8593\n",
      "----------------------------------\n",
      "Model performance for Test set\n",
      "- Accuracy: 0.8492\n",
      "- F1 score: 0.8621\n",
      "- Precision: 0.8663\n",
      "- Recall: 0.8579\n",
      "- Roc Auc Score: 0.8483\n",
      "===================================\n",
      "\n",
      "\n"
     ]
    }
   ],
   "source": [
    "base_model_report =evaluate_models(X=X_res, y=y_res, models=models)"
   ]
  },
  {
   "cell_type": "code",
   "execution_count": 50,
   "metadata": {},
   "outputs": [
    {
     "data": {
      "text/html": [
       "<div>\n",
       "<style scoped>\n",
       "    .dataframe tbody tr th:only-of-type {\n",
       "        vertical-align: middle;\n",
       "    }\n",
       "\n",
       "    .dataframe tbody tr th {\n",
       "        vertical-align: top;\n",
       "    }\n",
       "\n",
       "    .dataframe thead th {\n",
       "        text-align: right;\n",
       "    }\n",
       "</style>\n",
       "<table border=\"1\" class=\"dataframe\">\n",
       "  <thead>\n",
       "    <tr style=\"text-align: right;\">\n",
       "      <th></th>\n",
       "      <th>Model Name</th>\n",
       "      <th>Accuracy</th>\n",
       "    </tr>\n",
       "  </thead>\n",
       "  <tbody>\n",
       "    <tr>\n",
       "      <th>0</th>\n",
       "      <td>Random Forest</td>\n",
       "      <td>0.948566</td>\n",
       "    </tr>\n",
       "    <tr>\n",
       "      <th>4</th>\n",
       "      <td>K-Neighbors Classifier</td>\n",
       "      <td>0.936151</td>\n",
       "    </tr>\n",
       "    <tr>\n",
       "      <th>6</th>\n",
       "      <td>CatBoosting Classifier</td>\n",
       "      <td>0.927283</td>\n",
       "    </tr>\n",
       "    <tr>\n",
       "      <th>5</th>\n",
       "      <td>XGBClassifier</td>\n",
       "      <td>0.924032</td>\n",
       "    </tr>\n",
       "    <tr>\n",
       "      <th>1</th>\n",
       "      <td>Decision Tree</td>\n",
       "      <td>0.913390</td>\n",
       "    </tr>\n",
       "    <tr>\n",
       "      <th>2</th>\n",
       "      <td>Gradient Boosting</td>\n",
       "      <td>0.878510</td>\n",
       "    </tr>\n",
       "    <tr>\n",
       "      <th>7</th>\n",
       "      <td>Support Vector Classifier</td>\n",
       "      <td>0.863435</td>\n",
       "    </tr>\n",
       "    <tr>\n",
       "      <th>8</th>\n",
       "      <td>AdaBoost Classifier</td>\n",
       "      <td>0.849246</td>\n",
       "    </tr>\n",
       "    <tr>\n",
       "      <th>3</th>\n",
       "      <td>Logistic Regression</td>\n",
       "      <td>0.730417</td>\n",
       "    </tr>\n",
       "  </tbody>\n",
       "</table>\n",
       "</div>"
      ],
      "text/plain": [
       "                  Model Name  Accuracy\n",
       "0              Random Forest  0.948566\n",
       "4     K-Neighbors Classifier  0.936151\n",
       "6     CatBoosting Classifier  0.927283\n",
       "5              XGBClassifier  0.924032\n",
       "1              Decision Tree  0.913390\n",
       "2          Gradient Boosting  0.878510\n",
       "7  Support Vector Classifier  0.863435\n",
       "8        AdaBoost Classifier  0.849246\n",
       "3        Logistic Regression  0.730417"
      ]
     },
     "execution_count": 50,
     "metadata": {},
     "output_type": "execute_result"
    }
   ],
   "source": [
    "base_model_report"
   ]
  },
  {
   "cell_type": "markdown",
   "metadata": {},
   "source": [
    "**Here I can perform hyperparameter tuning for best performing models**\n",
    "\n",
    "**I choose RandomForest, KNN, XGB for hyperparameter tuning**"
   ]
  },
  {
   "cell_type": "code",
   "execution_count": 53,
   "metadata": {},
   "outputs": [],
   "source": [
    "import optuna"
   ]
  },
  {
   "cell_type": "code",
   "execution_count": 63,
   "metadata": {},
   "outputs": [
    {
     "name": "stderr",
     "output_type": "stream",
     "text": [
      "[I 2024-10-15 12:16:57,585] A new study created in memory with name: no-name-98293125-89cb-469b-a626-d43ca44d1ece\n",
      "[I 2024-10-15 12:16:57,736] Trial 0 finished with value: 0.9559562518474727 and parameters: {'classifier': 'KNN', 'algorithm': 'auto', 'n_neighbors': 5, 'weights': 'distance'}. Best is trial 0 with value: 0.9559562518474727.\n",
      "[I 2024-10-15 12:16:58,503] Trial 1 finished with value: 0.948566361217854 and parameters: {'classifier': 'KNN', 'algorithm': 'ball_tree', 'n_neighbors': 8, 'weights': 'distance'}. Best is trial 0 with value: 0.9559562518474727.\n",
      "[I 2024-10-15 12:16:58,587] Trial 2 finished with value: 0.967188885604493 and parameters: {'classifier': 'KNN', 'algorithm': 'brute', 'n_neighbors': 3, 'weights': 'distance'}. Best is trial 2 with value: 0.967188885604493.\n",
      "[I 2024-10-15 12:16:59,120] Trial 3 finished with value: 0.9414720662134201 and parameters: {'classifier': 'RandomForest', 'n_estimators': 20, 'max_depth': 58, 'max_features': 'log2'}. Best is trial 2 with value: 0.967188885604493.\n",
      "[I 2024-10-15 12:16:59,206] Trial 4 finished with value: 0.9559562518474727 and parameters: {'classifier': 'KNN', 'algorithm': 'brute', 'n_neighbors': 5, 'weights': 'distance'}. Best is trial 2 with value: 0.967188885604493.\n",
      "[I 2024-10-15 12:16:59,287] Trial 5 finished with value: 0.9092521430682826 and parameters: {'classifier': 'KNN', 'algorithm': 'brute', 'n_neighbors': 8, 'weights': 'uniform'}. Best is trial 2 with value: 0.967188885604493.\n",
      "[I 2024-10-15 12:16:59,369] Trial 6 finished with value: 0.9559562518474727 and parameters: {'classifier': 'KNN', 'algorithm': 'brute', 'n_neighbors': 5, 'weights': 'distance'}. Best is trial 2 with value: 0.967188885604493.\n",
      "[I 2024-10-15 12:16:59,503] Trial 7 finished with value: 0.911025716819391 and parameters: {'classifier': 'XGB', 'max_depth': 4, 'min_child_weight': 2}. Best is trial 2 with value: 0.967188885604493.\n",
      "[I 2024-10-15 12:16:59,992] Trial 8 finished with value: 0.9414720662134201 and parameters: {'classifier': 'RandomForest', 'n_estimators': 17, 'max_depth': 60, 'max_features': 'log2'}. Best is trial 2 with value: 0.967188885604493.\n",
      "[I 2024-10-15 12:17:00,287] Trial 9 finished with value: 0.9328997930830624 and parameters: {'classifier': 'XGB', 'max_depth': 9, 'min_child_weight': 4}. Best is trial 2 with value: 0.967188885604493.\n",
      "[I 2024-10-15 12:17:00,606] Trial 10 finished with value: 0.9394028968371269 and parameters: {'classifier': 'RandomForest', 'n_estimators': 10, 'max_depth': 198, 'max_features': 'sqrt'}. Best is trial 2 with value: 0.967188885604493.\n",
      "[I 2024-10-15 12:17:00,678] Trial 11 finished with value: 0.967188885604493 and parameters: {'classifier': 'KNN', 'algorithm': 'auto', 'n_neighbors': 3, 'weights': 'distance'}. Best is trial 2 with value: 0.967188885604493.\n",
      "[I 2024-10-15 12:17:00,765] Trial 12 finished with value: 0.967188885604493 and parameters: {'classifier': 'KNN', 'algorithm': 'auto', 'n_neighbors': 3, 'weights': 'distance'}. Best is trial 2 with value: 0.967188885604493.\n",
      "[I 2024-10-15 12:17:01,059] Trial 13 finished with value: 0.9571386343482117 and parameters: {'classifier': 'KNN', 'algorithm': 'kd_tree', 'n_neighbors': 3, 'weights': 'uniform'}. Best is trial 2 with value: 0.967188885604493.\n",
      "[I 2024-10-15 12:17:01,144] Trial 14 finished with value: 0.9429500443393438 and parameters: {'classifier': 'KNN', 'algorithm': 'auto', 'n_neighbors': 10, 'weights': 'distance'}. Best is trial 2 with value: 0.967188885604493.\n",
      "[I 2024-10-15 12:17:01,321] Trial 15 finished with value: 0.9172332249482708 and parameters: {'classifier': 'XGB', 'max_depth': 6, 'min_child_weight': 6}. Best is trial 2 with value: 0.967188885604493.\n",
      "[I 2024-10-15 12:17:01,993] Trial 16 finished with value: 0.967188885604493 and parameters: {'classifier': 'KNN', 'algorithm': 'ball_tree', 'n_neighbors': 3, 'weights': 'distance'}. Best is trial 2 with value: 0.967188885604493.\n",
      "[I 2024-10-15 12:17:02,325] Trial 17 finished with value: 0.9456104049660065 and parameters: {'classifier': 'KNN', 'algorithm': 'kd_tree', 'n_neighbors': 4, 'weights': 'uniform'}. Best is trial 2 with value: 0.967188885604493.\n",
      "[I 2024-10-15 12:17:03,436] Trial 18 finished with value: 0.9346733668341709 and parameters: {'classifier': 'RandomForest', 'n_estimators': 10, 'max_depth': 192, 'max_features': None}. Best is trial 2 with value: 0.967188885604493.\n",
      "[I 2024-10-15 12:17:03,546] Trial 19 finished with value: 0.8932899793083062 and parameters: {'classifier': 'XGB', 'max_depth': 3, 'min_child_weight': 1}. Best is trial 2 with value: 0.967188885604493.\n",
      "[I 2024-10-15 12:17:03,642] Trial 20 finished with value: 0.948566361217854 and parameters: {'classifier': 'KNN', 'algorithm': 'brute', 'n_neighbors': 7, 'weights': 'distance'}. Best is trial 2 with value: 0.967188885604493.\n",
      "[I 2024-10-15 12:17:03,725] Trial 21 finished with value: 0.967188885604493 and parameters: {'classifier': 'KNN', 'algorithm': 'auto', 'n_neighbors': 3, 'weights': 'distance'}. Best is trial 2 with value: 0.967188885604493.\n",
      "[I 2024-10-15 12:17:03,810] Trial 22 finished with value: 0.9665976943541236 and parameters: {'classifier': 'KNN', 'algorithm': 'auto', 'n_neighbors': 4, 'weights': 'distance'}. Best is trial 2 with value: 0.967188885604493.\n",
      "[I 2024-10-15 12:17:03,894] Trial 23 finished with value: 0.9665976943541236 and parameters: {'classifier': 'KNN', 'algorithm': 'auto', 'n_neighbors': 4, 'weights': 'distance'}. Best is trial 2 with value: 0.967188885604493.\n",
      "[I 2024-10-15 12:17:03,981] Trial 24 finished with value: 0.967188885604493 and parameters: {'classifier': 'KNN', 'algorithm': 'auto', 'n_neighbors': 3, 'weights': 'distance'}. Best is trial 2 with value: 0.967188885604493.\n",
      "[I 2024-10-15 12:17:04,070] Trial 25 finished with value: 0.9665976943541236 and parameters: {'classifier': 'KNN', 'algorithm': 'auto', 'n_neighbors': 4, 'weights': 'distance'}. Best is trial 2 with value: 0.967188885604493.\n",
      "[I 2024-10-15 12:17:04,159] Trial 26 finished with value: 0.9272834762045522 and parameters: {'classifier': 'KNN', 'algorithm': 'brute', 'n_neighbors': 6, 'weights': 'uniform'}. Best is trial 2 with value: 0.967188885604493.\n",
      "[I 2024-10-15 12:17:04,238] Trial 27 finished with value: 0.967188885604493 and parameters: {'classifier': 'KNN', 'algorithm': 'auto', 'n_neighbors': 3, 'weights': 'distance'}. Best is trial 2 with value: 0.967188885604493.\n",
      "[I 2024-10-15 12:17:04,488] Trial 28 finished with value: 0.9249187112030742 and parameters: {'classifier': 'XGB', 'max_depth': 7, 'min_child_weight': 6}. Best is trial 2 with value: 0.967188885604493.\n",
      "[I 2024-10-15 12:17:06,087] Trial 29 finished with value: 0.9370381318356489 and parameters: {'classifier': 'RandomForest', 'n_estimators': 14, 'max_depth': 138, 'max_features': None}. Best is trial 2 with value: 0.967188885604493.\n",
      "[I 2024-10-15 12:17:06,825] Trial 30 finished with value: 0.9553650605971031 and parameters: {'classifier': 'KNN', 'algorithm': 'ball_tree', 'n_neighbors': 6, 'weights': 'distance'}. Best is trial 2 with value: 0.967188885604493.\n",
      "[I 2024-10-15 12:17:07,508] Trial 31 finished with value: 0.967188885604493 and parameters: {'classifier': 'KNN', 'algorithm': 'ball_tree', 'n_neighbors': 3, 'weights': 'distance'}. Best is trial 2 with value: 0.967188885604493.\n",
      "[I 2024-10-15 12:17:08,502] Trial 32 finished with value: 0.9665976943541236 and parameters: {'classifier': 'KNN', 'algorithm': 'ball_tree', 'n_neighbors': 4, 'weights': 'distance'}. Best is trial 2 with value: 0.967188885604493.\n",
      "[I 2024-10-15 12:17:09,360] Trial 33 finished with value: 0.967188885604493 and parameters: {'classifier': 'KNN', 'algorithm': 'ball_tree', 'n_neighbors': 3, 'weights': 'distance'}. Best is trial 2 with value: 0.967188885604493.\n",
      "[I 2024-10-15 12:17:09,638] Trial 34 finished with value: 0.9665976943541236 and parameters: {'classifier': 'KNN', 'algorithm': 'kd_tree', 'n_neighbors': 4, 'weights': 'distance'}. Best is trial 2 with value: 0.967188885604493.\n",
      "[I 2024-10-15 12:17:09,739] Trial 35 finished with value: 0.967188885604493 and parameters: {'classifier': 'KNN', 'algorithm': 'brute', 'n_neighbors': 3, 'weights': 'distance'}. Best is trial 2 with value: 0.967188885604493.\n",
      "[I 2024-10-15 12:17:10,468] Trial 36 finished with value: 0.9559562518474727 and parameters: {'classifier': 'KNN', 'algorithm': 'ball_tree', 'n_neighbors': 5, 'weights': 'distance'}. Best is trial 2 with value: 0.967188885604493.\n",
      "[I 2024-10-15 12:17:10,546] Trial 37 finished with value: 0.9571386343482117 and parameters: {'classifier': 'KNN', 'algorithm': 'auto', 'n_neighbors': 3, 'weights': 'uniform'}. Best is trial 2 with value: 0.967188885604493.\n",
      "[I 2024-10-15 12:17:10,957] Trial 38 finished with value: 0.9376293230860183 and parameters: {'classifier': 'RandomForest', 'n_estimators': 14, 'max_depth': 136, 'max_features': 'sqrt'}. Best is trial 2 with value: 0.967188885604493.\n",
      "[I 2024-10-15 12:17:11,050] Trial 39 finished with value: 0.9665976943541236 and parameters: {'classifier': 'KNN', 'algorithm': 'auto', 'n_neighbors': 4, 'weights': 'distance'}. Best is trial 2 with value: 0.967188885604493.\n",
      "[I 2024-10-15 12:17:11,269] Trial 40 finished with value: 0.9284658587052912 and parameters: {'classifier': 'XGB', 'max_depth': 7, 'min_child_weight': 4}. Best is trial 2 with value: 0.967188885604493.\n",
      "[I 2024-10-15 12:17:11,362] Trial 41 finished with value: 0.967188885604493 and parameters: {'classifier': 'KNN', 'algorithm': 'auto', 'n_neighbors': 3, 'weights': 'distance'}. Best is trial 2 with value: 0.967188885604493.\n",
      "[I 2024-10-15 12:17:11,445] Trial 42 finished with value: 0.967188885604493 and parameters: {'classifier': 'KNN', 'algorithm': 'auto', 'n_neighbors': 3, 'weights': 'distance'}. Best is trial 2 with value: 0.967188885604493.\n",
      "[I 2024-10-15 12:17:11,529] Trial 43 finished with value: 0.9665976943541236 and parameters: {'classifier': 'KNN', 'algorithm': 'auto', 'n_neighbors': 4, 'weights': 'distance'}. Best is trial 2 with value: 0.967188885604493.\n",
      "[I 2024-10-15 12:17:11,612] Trial 44 finished with value: 0.967188885604493 and parameters: {'classifier': 'KNN', 'algorithm': 'auto', 'n_neighbors': 3, 'weights': 'distance'}. Best is trial 2 with value: 0.967188885604493.\n",
      "[I 2024-10-15 12:17:12,327] Trial 45 finished with value: 0.9559562518474727 and parameters: {'classifier': 'KNN', 'algorithm': 'ball_tree', 'n_neighbors': 5, 'weights': 'distance'}. Best is trial 2 with value: 0.967188885604493.\n",
      "[I 2024-10-15 12:17:12,891] Trial 46 finished with value: 0.9414720662134201 and parameters: {'classifier': 'RandomForest', 'n_estimators': 20, 'max_depth': 93, 'max_features': 'sqrt'}. Best is trial 2 with value: 0.967188885604493.\n",
      "[I 2024-10-15 12:17:12,970] Trial 47 finished with value: 0.967188885604493 and parameters: {'classifier': 'KNN', 'algorithm': 'brute', 'n_neighbors': 3, 'weights': 'distance'}. Best is trial 2 with value: 0.967188885604493.\n",
      "[I 2024-10-15 12:17:13,056] Trial 48 finished with value: 0.9665976943541236 and parameters: {'classifier': 'KNN', 'algorithm': 'auto', 'n_neighbors': 4, 'weights': 'distance'}. Best is trial 2 with value: 0.967188885604493.\n",
      "[I 2024-10-15 12:17:13,208] Trial 49 finished with value: 0.9175288205734555 and parameters: {'classifier': 'XGB', 'max_depth': 5, 'min_child_weight': 3}. Best is trial 2 with value: 0.967188885604493.\n"
     ]
    }
   ],
   "source": [
    "# Define an objective function to be minimized.\n",
    "def objective(trial):\n",
    "\n",
    "    # Invoke suggest methods of a Trial object to generate hyperparameters.\n",
    "    model = trial.suggest_categorical('classifier', ['RandomForest','KNN','XGB'])\n",
    "    if model == 'RandomForest':\n",
    "        n_estimators = trial.suggest_int('n_estimators', 10, 20)\n",
    "        max_depth = trial.suggest_int('max_depth',10,200)\n",
    "        max_features = trial.suggest_categorical('max_features',['sqrt', 'log2', None])\n",
    "        calssifier_obj = RandomForestClassifier(n_estimators=n_estimators,max_depth=max_depth,max_features=max_features)\n",
    "    elif model == 'KNN':\n",
    "        algorithm = trial.suggest_categorical('algorithm',['auto', 'ball_tree', 'kd_tree','brute'])\n",
    "        n_neighbors = trial.suggest_int('n_neighbors', 3, 10)\n",
    "        weights = trial.suggest_categorical('weights', ['uniform', 'distance'] )\n",
    "        calssifier_obj = KNeighborsClassifier(algorithm=algorithm,n_neighbors=n_neighbors,weights=weights)\n",
    "    else:\n",
    "        max_depth = trial.suggest_int('max_depth', 3,10 )\n",
    "        min_child_weight = trial.suggest_int('min_child_weight',1,6)\n",
    "        calssifier_obj = XGBClassifier(max_depth=max_depth,min_child_weight=min_child_weight)\n",
    "\n",
    "    calssifier_obj.fit(X_train, y_train)\n",
    "    y_pred = calssifier_obj.predict(X_test)\n",
    "\n",
    "    accuracy = accuracy_score(y_test, y_pred)\n",
    "\n",
    "    return accuracy  # An objective value linked with the Trial object.\n",
    "\n",
    "study = optuna.create_study(direction='maximize', sampler= optuna.samplers.TPESampler())  # Create a new study.\n",
    "study.optimize(objective, n_trials=50)  # Invoke optimization of the objective function."
   ]
  },
  {
   "cell_type": "code",
   "execution_count": 64,
   "metadata": {},
   "outputs": [
    {
     "data": {
      "text/plain": [
       "0.967188885604493"
      ]
     },
     "execution_count": 64,
     "metadata": {},
     "output_type": "execute_result"
    }
   ],
   "source": [
    "study.best_trial.value"
   ]
  },
  {
   "cell_type": "code",
   "execution_count": 65,
   "metadata": {},
   "outputs": [
    {
     "data": {
      "text/plain": [
       "{'classifier': 'KNN',\n",
       " 'algorithm': 'brute',\n",
       " 'n_neighbors': 3,\n",
       " 'weights': 'distance'}"
      ]
     },
     "execution_count": 65,
     "metadata": {},
     "output_type": "execute_result"
    }
   ],
   "source": [
    "study.best_trial.params"
   ]
  },
  {
   "cell_type": "markdown",
   "metadata": {},
   "source": [
    "The best model and params from optuna are \n",
    "{'classifier': 'KNN',\n",
    " 'algorithm': 'brute',\n",
    " 'n_neighbors': 3,\n",
    " 'weights': 'distance'}\n",
    " with a accuracy score of 96.718"
   ]
  },
  {
   "cell_type": "markdown",
   "metadata": {},
   "source": [
    "## Retraining with the best model and best parameters"
   ]
  },
  {
   "cell_type": "code",
   "execution_count": 67,
   "metadata": {},
   "outputs": [
    {
     "name": "stdout",
     "output_type": "stream",
     "text": [
      "Model performance for Training set\n",
      "- Accuracy: 1.0000\n",
      "- F1 score: 1.0000\n",
      "- Precision: 1.0000\n",
      "- Recall: 1.0000\n",
      "- Roc Auc Score: 1.0000\n",
      "----------------------------------\n",
      "Model performance for Test set\n",
      "- Accuracy: 0.9672\n",
      "- F1 score: 0.9706\n",
      "- Precision: 0.9561\n",
      "- Recall: 0.9855\n",
      "- Roc Auc Score: 0.9652\n"
     ]
    }
   ],
   "source": [
    "best_model = KNeighborsClassifier(algorithm='brute', weights= 'distance', n_neighbors=3)\n",
    "\n",
    "best_model.fit(X_train,y_train)\n",
    "\n",
    "# Make predictions\n",
    "y_train_pred = best_model.predict(X_train)\n",
    "y_test_pred = best_model.predict(X_test)\n",
    "\n",
    "# Training set performance\n",
    "model_train_accuracy, model_train_f1,model_train_precision,model_train_recall,model_train_rocauc_score = evaluate_clf(y_train ,y_train_pred)\n",
    "\n",
    "\n",
    "# Test set performance\n",
    "model_test_accuracy,model_test_f1,model_test_precision, model_test_recall,model_test_rocauc_score = evaluate_clf(y_test, y_test_pred)\n",
    "\n",
    "print('Model performance for Training set')\n",
    "print(\"- Accuracy: {:.4f}\".format(model_train_accuracy))\n",
    "print('- F1 score: {:.4f}'.format(model_train_f1)) \n",
    "print('- Precision: {:.4f}'.format(model_train_precision))\n",
    "print('- Recall: {:.4f}'.format(model_train_recall))\n",
    "print('- Roc Auc Score: {:.4f}'.format(model_train_rocauc_score))\n",
    "\n",
    "print('----------------------------------')\n",
    "\n",
    "print('Model performance for Test set')\n",
    "print('- Accuracy: {:.4f}'.format(model_test_accuracy))\n",
    "print('- F1 score: {:.4f}'.format(model_test_f1))\n",
    "print('- Precision: {:.4f}'.format(model_test_precision))\n",
    "print('- Recall: {:.4f}'.format(model_test_recall))\n",
    "print('- Roc Auc Score: {:.4f}'.format(model_test_rocauc_score))\n"
   ]
  },
  {
   "cell_type": "code",
   "execution_count": 70,
   "metadata": {},
   "outputs": [
    {
     "name": "stdout",
     "output_type": "stream",
     "text": [
      "FINAL MODEL 'KNN'\n",
      "Accuracy Score value: 0.9672\n",
      "              precision    recall  f1-score   support\n",
      "\n",
      "           0       0.98      0.94      0.96      1525\n",
      "           1       0.96      0.99      0.97      1858\n",
      "\n",
      "    accuracy                           0.97      3383\n",
      "   macro avg       0.97      0.97      0.97      3383\n",
      "weighted avg       0.97      0.97      0.97      3383\n",
      "\n"
     ]
    }
   ],
   "source": [
    "score = accuracy_score(y_test,y_test_pred)\n",
    "cr = classification_report(y_test,y_test_pred)\n",
    "\n",
    "print(\"FINAL MODEL 'KNN'\")\n",
    "print (\"Accuracy Score value: {:.4f}\".format(score))\n",
    "print (cr)"
   ]
  },
  {
   "cell_type": "code",
   "execution_count": 71,
   "metadata": {},
   "outputs": [
    {
     "data": {
      "text/plain": [
       "<sklearn.metrics._plot.confusion_matrix.ConfusionMatrixDisplay at 0x1b4fc4125e0>"
      ]
     },
     "execution_count": 71,
     "metadata": {},
     "output_type": "execute_result"
    },
    {
     "data": {
      "image/png": "[encoded data removed]",
      "text/plain": [
       "<Figure size 640x480 with 2 Axes>"
      ]
     },
     "metadata": {},
     "output_type": "display_data"
    }
   ],
   "source": [
    "from sklearn.metrics import ConfusionMatrixDisplay\n",
    "ConfusionMatrixDisplay.from_estimator(best_model, X_test, y_test)"
   ]
  },
  {
   "cell_type": "code",
   "execution_count": null,
   "metadata": {},
   "outputs": [],
   "source": []
  },
  {
   "cell_type": "code",
   "execution_count": null,
   "metadata": {},
   "outputs": [],
   "source": []
  }
 ],
 "metadata": {
  "kernelspec": {
   "display_name": "visa",
   "language": "python",
   "name": "python3"
  },
  "language_info": {
   "codemirror_mode": {
    "name": "ipython",
    "version": 3
   },
   "file_extension": ".py",
   "mimetype": "text/x-python",
   "name": "python",
   "nbconvert_exporter": "python",
   "pygments_lexer": "ipython3",
   "version": "3.8.20"
  }
 },
 "nbformat": 4,
 "nbformat_minor": 2
}
